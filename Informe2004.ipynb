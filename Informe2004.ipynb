{
 "cells": [
  {
   "cell_type": "markdown",
   "metadata": {},
   "source": [
    "# Informe de aportes hidrologicos para el año 2004\n",
    "\n"
   ]
  },
  {
   "cell_type": "markdown",
   "metadata": {},
   "source": [
    "Este es un ejemplo de **clase** sobre la manipulacion de los **_archivos_** csv usando python\n",
    "* item 1\n",
    "* item 2\n",
    "* item 3"
   ]
  },
  {
   "cell_type": "code",
   "execution_count": 26,
   "metadata": {
    "collapsed": false
   },
   "outputs": [
    {
     "name": "stdout",
     "output_type": "stream",
     "text": [
      "AportesDiario_2004.csv           Informe2004.ipynb\r\n",
      "\u001b[31mAyudaRenta2013 v1.5.xls\u001b[m\u001b[m*         Navidad Familia Cuervo 2014.mp4\r\n",
      "Demo.txt                         \u001b[34mRStudio.app\u001b[m\u001b[m/\r\n",
      "Demo2                            Untitled.ipynb\r\n",
      "Demo3.txt                        \u001b[34mcancun\u001b[m\u001b[m/\r\n",
      "\u001b[34mDiplomado\u001b[m\u001b[m/\r\n"
     ]
    }
   ],
   "source": [
    "%ls"
   ]
  },
  {
   "cell_type": "code",
   "execution_count": 33,
   "metadata": {
    "collapsed": true
   },
   "outputs": [],
   "source": [
    "import pandas as pd"
   ]
  },
  {
   "cell_type": "code",
   "execution_count": 46,
   "metadata": {
    "collapsed": false,
    "scrolled": true
   },
   "outputs": [],
   "source": [
    "x = pd.read_csv('AportesDiario_2004.csv', sep=';', decimal=',', thousands='.', skiprows=2)"
   ]
  },
  {
   "cell_type": "code",
   "execution_count": 47,
   "metadata": {
    "collapsed": false
   },
   "outputs": [
    {
     "data": {
      "text/html": [
       "<div>\n",
       "<table border=\"1\" class=\"dataframe\">\n",
       "  <thead>\n",
       "    <tr style=\"text-align: right;\">\n",
       "      <th></th>\n",
       "      <th>Fecha</th>\n",
       "      <th>Region Hidrologica</th>\n",
       "      <th>Nombre Rio</th>\n",
       "      <th>Aportes Caudal m3/s</th>\n",
       "      <th>Aportes Energia kWh</th>\n",
       "      <th>Aportes %</th>\n",
       "    </tr>\n",
       "  </thead>\n",
       "  <tbody>\n",
       "    <tr>\n",
       "      <th>0</th>\n",
       "      <td>1/01/04</td>\n",
       "      <td>ANTIOQUIA</td>\n",
       "      <td>A. SAN LORENZO</td>\n",
       "      <td>17.56</td>\n",
       "      <td>3910000.0</td>\n",
       "      <td>72,27%</td>\n",
       "    </tr>\n",
       "    <tr>\n",
       "      <th>1</th>\n",
       "      <td>1/01/04</td>\n",
       "      <td>ANTIOQUIA</td>\n",
       "      <td>CONCEPCION</td>\n",
       "      <td>6.15</td>\n",
       "      <td>1385300.0</td>\n",
       "      <td>123,69%</td>\n",
       "    </tr>\n",
       "    <tr>\n",
       "      <th>2</th>\n",
       "      <td>1/01/04</td>\n",
       "      <td>ANTIOQUIA</td>\n",
       "      <td>DESV. EEPPM (NEC,PAJ,DOL)</td>\n",
       "      <td>11.43</td>\n",
       "      <td>2574700.0</td>\n",
       "      <td>147,13%</td>\n",
       "    </tr>\n",
       "    <tr>\n",
       "      <th>3</th>\n",
       "      <td>1/01/04</td>\n",
       "      <td>ANTIOQUIA</td>\n",
       "      <td>GRANDE</td>\n",
       "      <td>18.65</td>\n",
       "      <td>4563500.0</td>\n",
       "      <td>79,23%</td>\n",
       "    </tr>\n",
       "    <tr>\n",
       "      <th>4</th>\n",
       "      <td>1/01/04</td>\n",
       "      <td>ANTIOQUIA</td>\n",
       "      <td>GUADALUPE</td>\n",
       "      <td>11.28</td>\n",
       "      <td>2540900.0</td>\n",
       "      <td>80,15%</td>\n",
       "    </tr>\n",
       "  </tbody>\n",
       "</table>\n",
       "</div>"
      ],
      "text/plain": [
       "     Fecha Region Hidrologica                 Nombre Rio  Aportes Caudal m3/s  \\\n",
       "0  1/01/04          ANTIOQUIA             A. SAN LORENZO                17.56   \n",
       "1  1/01/04          ANTIOQUIA                 CONCEPCION                 6.15   \n",
       "2  1/01/04          ANTIOQUIA  DESV. EEPPM (NEC,PAJ,DOL)                11.43   \n",
       "3  1/01/04          ANTIOQUIA                     GRANDE                18.65   \n",
       "4  1/01/04          ANTIOQUIA                  GUADALUPE                11.28   \n",
       "\n",
       "   Aportes Energia kWh Aportes %  \n",
       "0            3910000.0    72,27%  \n",
       "1            1385300.0   123,69%  \n",
       "2            2574700.0   147,13%  \n",
       "3            4563500.0    79,23%  \n",
       "4            2540900.0    80,15%  "
      ]
     },
     "execution_count": 47,
     "metadata": {},
     "output_type": "execute_result"
    }
   ],
   "source": [
    "x.head()"
   ]
  },
  {
   "cell_type": "code",
   "execution_count": 48,
   "metadata": {
    "collapsed": false
   },
   "outputs": [
    {
     "data": {
      "text/plain": [
       "0        1/01/04\n",
       "1        1/01/04\n",
       "2        1/01/04\n",
       "3        1/01/04\n",
       "4        1/01/04\n",
       "5        1/01/04\n",
       "6        1/01/04\n",
       "7        1/01/04\n",
       "8        1/01/04\n",
       "9        1/01/04\n",
       "10       1/01/04\n",
       "11       1/01/04\n",
       "12       1/01/04\n",
       "13       1/01/04\n",
       "14       1/01/04\n",
       "15       1/01/04\n",
       "16       1/01/04\n",
       "17       1/01/04\n",
       "18       1/01/04\n",
       "19       1/01/04\n",
       "20       1/01/04\n",
       "21       1/01/04\n",
       "22       1/01/04\n",
       "23       1/01/04\n",
       "24       2/01/04\n",
       "25       2/01/04\n",
       "26       2/01/04\n",
       "27       2/01/04\n",
       "28       2/01/04\n",
       "29       2/01/04\n",
       "          ...   \n",
       "8754    30/12/04\n",
       "8755    30/12/04\n",
       "8756    30/12/04\n",
       "8757    30/12/04\n",
       "8758    30/12/04\n",
       "8759    30/12/04\n",
       "8760    31/12/04\n",
       "8761    31/12/04\n",
       "8762    31/12/04\n",
       "8763    31/12/04\n",
       "8764    31/12/04\n",
       "8765    31/12/04\n",
       "8766    31/12/04\n",
       "8767    31/12/04\n",
       "8768    31/12/04\n",
       "8769    31/12/04\n",
       "8770    31/12/04\n",
       "8771    31/12/04\n",
       "8772    31/12/04\n",
       "8773    31/12/04\n",
       "8774    31/12/04\n",
       "8775    31/12/04\n",
       "8776    31/12/04\n",
       "8777    31/12/04\n",
       "8778    31/12/04\n",
       "8779    31/12/04\n",
       "8780    31/12/04\n",
       "8781    31/12/04\n",
       "8782    31/12/04\n",
       "8783    31/12/04\n",
       "Name: Fecha, dtype: object"
      ]
     },
     "execution_count": 48,
     "metadata": {},
     "output_type": "execute_result"
    }
   ],
   "source": [
    "x['Fecha']"
   ]
  },
  {
   "cell_type": "code",
   "execution_count": 49,
   "metadata": {
    "collapsed": false
   },
   "outputs": [
    {
     "data": {
      "text/plain": [
       "0       False\n",
       "1       False\n",
       "2       False\n",
       "3       False\n",
       "4       False\n",
       "5       False\n",
       "6       False\n",
       "7       False\n",
       "8       False\n",
       "9       False\n",
       "10      False\n",
       "11      False\n",
       "12      False\n",
       "13      False\n",
       "14      False\n",
       "15      False\n",
       "16      False\n",
       "17      False\n",
       "18      False\n",
       "19      False\n",
       "20      False\n",
       "21      False\n",
       "22      False\n",
       "23      False\n",
       "24      False\n",
       "25      False\n",
       "26      False\n",
       "27      False\n",
       "28      False\n",
       "29      False\n",
       "        ...  \n",
       "8754    False\n",
       "8755    False\n",
       "8756    False\n",
       "8757    False\n",
       "8758    False\n",
       "8759    False\n",
       "8760    False\n",
       "8761    False\n",
       "8762    False\n",
       "8763    False\n",
       "8764    False\n",
       "8765    False\n",
       "8766    False\n",
       "8767    False\n",
       "8768    False\n",
       "8769    False\n",
       "8770    False\n",
       "8771    False\n",
       "8772    False\n",
       "8773    False\n",
       "8774    False\n",
       "8775    False\n",
       "8776    False\n",
       "8777    False\n",
       "8778    False\n",
       "8779    False\n",
       "8780    False\n",
       "8781    False\n",
       "8782    False\n",
       "8783    False\n",
       "Name: Region Hidrologica, dtype: bool"
      ]
     },
     "execution_count": 49,
     "metadata": {},
     "output_type": "execute_result"
    }
   ],
   "source": [
    "x['Region Hidrologica'] == 'Antioquia'"
   ]
  },
  {
   "cell_type": "code",
   "execution_count": 52,
   "metadata": {
    "collapsed": false
   },
   "outputs": [
    {
     "data": {
      "text/plain": [
       "{'A. SAN LORENZO',\n",
       " 'ALTOANCHICAYA',\n",
       " 'BATA',\n",
       " 'BOGOTA N.R.',\n",
       " 'CALIMA',\n",
       " 'CAUCA SALVAJINA',\n",
       " 'CHUZA',\n",
       " 'CONCEPCION',\n",
       " 'DESV. EEPPM (NEC,PAJ,DOL)',\n",
       " 'DIGUA',\n",
       " 'FLORIDA II',\n",
       " 'GRANDE',\n",
       " 'GUADALUPE',\n",
       " 'GUATAPE',\n",
       " 'GUAVIO',\n",
       " 'MAGDALENA BETANIA',\n",
       " 'MIEL I',\n",
       " 'NARE',\n",
       " 'OTROS RIOS (ESTIMADOS)',\n",
       " 'PORCE II',\n",
       " 'PRADO',\n",
       " 'SAN CARLOS',\n",
       " 'SINU URRA',\n",
       " 'TENCHE'}"
      ]
     },
     "execution_count": 52,
     "metadata": {},
     "output_type": "execute_result"
    }
   ],
   "source": [
    "n = set(x['Nombre Rio'])\n",
    "n"
   ]
  },
  {
   "cell_type": "code",
   "execution_count": 62,
   "metadata": {
    "collapsed": false
   },
   "outputs": [
    {
     "name": "stdout",
     "output_type": "stream",
     "text": [
      "MIEL I 3430428.4153\n",
      "ALTOANCHICAYA 4620595.90164\n",
      "FLORIDA II nan\n",
      "CHUZA nan\n",
      "NARE 17388083.6066\n",
      "DESV. EEPPM (NEC,PAJ,DOL) nan\n",
      "GUADALUPE 4542910.92896\n",
      "MAGDALENA BETANIA 5580630.32787\n",
      "GUAVIO 20624689.3443\n",
      "PRADO 498419.125683\n",
      "CALIMA 556011.748634\n",
      "DIGUA 429995.355191\n",
      "OTROS RIOS (ESTIMADOS) 3700456.8306\n",
      "CONCEPCION 1488170.4918\n",
      "GUATAPE 5624479.23497\n",
      "CAUCA SALVAJINA 2519614.48087\n",
      "TENCHE 878668.306011\n",
      "PORCE II 4976887.15847\n",
      "GRANDE 6729973.22404\n",
      "A. SAN LORENZO 8105399.72678\n",
      "SAN CARLOS 3084508.74317\n",
      "BATA 15712428.4153\n",
      "BOGOTA N.R. nan\n",
      "SINU URRA 3165074.04372\n"
     ]
    }
   ],
   "source": [
    "import statistics\n",
    "for y in n: \n",
    "    z = x [x['Nombre Rio'] == y]['Aportes Energia kWh'] \n",
    "    if len(z) > 0:\n",
    "        print(y, statistics.mean(x[x['Nombre Rio']==y]['Aportes Energia kWh'].values[:]))"
   ]
  },
  {
   "cell_type": "code",
   "execution_count": null,
   "metadata": {
    "collapsed": true
   },
   "outputs": [],
   "source": []
  }
 ],
 "metadata": {
  "anaconda-cloud": {},
  "kernelspec": {
   "display_name": "Python [default]",
   "language": "python",
   "name": "python3"
  },
  "language_info": {
   "codemirror_mode": {
    "name": "ipython",
    "version": 3
   },
   "file_extension": ".py",
   "mimetype": "text/x-python",
   "name": "python",
   "nbconvert_exporter": "python",
   "pygments_lexer": "ipython3",
   "version": "3.5.2"
  }
 },
 "nbformat": 4,
 "nbformat_minor": 1
}
